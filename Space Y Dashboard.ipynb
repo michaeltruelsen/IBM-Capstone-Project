{
    "cells": [
        {
            "cell_type": "code",
            "execution_count": null,
            "metadata": {},
            "outputs": [
                {
                    "name": "stdout",
                    "output_type": "stream",
                    "text": "Requirement already satisfied: pandas in /opt/conda/envs/Python-3.8-main/lib/python3.8/site-packages (1.2.4)\nRequirement already satisfied: dash in /opt/conda/envs/Python-3.8-main/lib/python3.8/site-packages (1.21.0)\nRequirement already satisfied: python-dateutil>=2.7.3 in /opt/conda/envs/Python-3.8-main/lib/python3.8/site-packages (from pandas) (2.8.1)\nRequirement already satisfied: pytz>=2017.3 in /opt/conda/envs/Python-3.8-main/lib/python3.8/site-packages (from pandas) (2021.1)\nRequirement already satisfied: numpy>=1.16.5 in /opt/conda/envs/Python-3.8-main/lib/python3.8/site-packages (from pandas) (1.19.2)\nRequirement already satisfied: six>=1.5 in /opt/conda/envs/Python-3.8-main/lib/python3.8/site-packages (from python-dateutil>=2.7.3->pandas) (1.15.0)\nRequirement already satisfied: future in /opt/conda/envs/Python-3.8-main/lib/python3.8/site-packages (from dash) (0.18.2)\nRequirement already satisfied: dash-table==4.12.0 in /opt/conda/envs/Python-3.8-main/lib/python3.8/site-packages (from dash) (4.12.0)\nRequirement already satisfied: dash-html-components==1.1.4 in /opt/conda/envs/Python-3.8-main/lib/python3.8/site-packages (from dash) (1.1.4)\nRequirement already satisfied: Flask>=1.0.4 in /opt/conda/envs/Python-3.8-main/lib/python3.8/site-packages (from dash) (2.0.1)\nRequirement already satisfied: plotly in /opt/conda/envs/Python-3.8-main/lib/python3.8/site-packages (from dash) (4.14.3)\nRequirement already satisfied: dash-core-components==1.17.1 in /opt/conda/envs/Python-3.8-main/lib/python3.8/site-packages (from dash) (1.17.1)\nRequirement already satisfied: flask-compress in /opt/conda/envs/Python-3.8-main/lib/python3.8/site-packages (from dash) (1.10.1)\nRequirement already satisfied: Jinja2>=3.0 in /opt/conda/envs/Python-3.8-main/lib/python3.8/site-packages (from Flask>=1.0.4->dash) (3.0.0)\nRequirement already satisfied: click>=7.1.2 in /opt/conda/envs/Python-3.8-main/lib/python3.8/site-packages (from Flask>=1.0.4->dash) (7.1.2)\nRequirement already satisfied: Werkzeug>=2.0 in /opt/conda/envs/Python-3.8-main/lib/python3.8/site-packages (from Flask>=1.0.4->dash) (2.0.1)\nRequirement already satisfied: itsdangerous>=2.0 in /opt/conda/envs/Python-3.8-main/lib/python3.8/site-packages (from Flask>=1.0.4->dash) (2.0.1)\nRequirement already satisfied: MarkupSafe>=2.0.0rc2 in /opt/conda/envs/Python-3.8-main/lib/python3.8/site-packages (from Jinja2>=3.0->Flask>=1.0.4->dash) (2.0.1)\nRequirement already satisfied: brotli in /opt/conda/envs/Python-3.8-main/lib/python3.8/site-packages (from flask-compress->dash) (1.0.9)\nRequirement already satisfied: retrying>=1.3.3 in /opt/conda/envs/Python-3.8-main/lib/python3.8/site-packages (from plotly->dash) (1.3.3)\nDash is running on http://127.0.0.1:8050/\n\n * Serving Flask app '__main__' (lazy loading)\n * Environment: production\n\u001b[31m   WARNING: This is a development server. Do not use it in a production deployment.\u001b[0m\n\u001b[2m   Use a production WSGI server instead.\u001b[0m\n * Debug mode: off\n"
                },
                {
                    "name": "stderr",
                    "output_type": "stream",
                    "text": " * Running on http://127.0.0.1:8050/ (Press CTRL+C to quit)\n"
                }
            ],
            "source": "!pip3 install pandas dash\n\nurl = \"https://cf-courses-data.s3.us.cloud-object-storage.appdomain.cloud/IBM-DS0321EN-SkillsNetwork/datasets/spacex_launch_dash.csv\"\n\n\n# Import required libraries\nimport pandas as pd\nimport plotly.express as px\nimport dash\nimport dash_html_components as html\nimport dash_core_components as dcc\nfrom dash.dependencies import Input, Output\n\n# Read the airline data into pandas dataframe\nspacex_df = pd.read_csv(url)\nmax_payload = spacex_df['Payload Mass (kg)'].max()\nmin_payload = spacex_df['Payload Mass (kg)'].min()\n\n# Create a dash application\napp = dash.Dash(__name__)\n\nlsites = spacex_df['Launch Site'].unique().tolist()\nlsite = []\nlsite.append({'label':'All Sites','value':'All Sites'})\nfor site in lsites:\n    lsite.append({'label':site,'value':site})\n\n# Create an app layout\napp.layout = html.Div(children=[html.H1('SpaceX Launch Records Dashboard',\n                                        style={'textAlign': 'center', 'color': '#503D36',\n                                               'font-size': 40}),\n                                # TASK 1: Add a dropdown list to enable Launch Site selection\n                                # The default select value is for ALL sites\n                                # dcc.Dropdown(id='site_dropdown',...)\n                                dcc.Dropdown(id='site_dropdown',\n                                                options=lsite,\n                                                value='All Sites',\n                                                placeholder='Select a Launch Site Here',\n                                                searchable=True),\n                                html.Br(),\n\n                                # TASK 2: Add a pie chart to show the total successful launches count for all sites\n                                # If a specific launch site was selected, show the Success vs. Failed counts for the site\n                                html.Div(dcc.Graph(id='success-pie-chart')),\n                                html.Br(),\n\n                                html.P(\"Payload range (Kg):\"),\n                                # TASK 3: Add a slider to select payload range\n                                #dcc.RangeSlider(id='payload_slider',...)\n                                dcc.RangeSlider(id='payload_slider',\n                                                min=0,\n                                                max=10000,\n                                                step=1000,\n                                                value=[min_payload,max_payload]),\n\n                                # TASK 4: Add a scatter chart to show the correlation between payload and launch success\n                                html.Div(dcc.Graph(id='success-payload-scatter-chart')),\n                                ])\n\n# TASK 2:\n# Add a callback function for `site_dropdown` as input, `success-pie-chart` as output\n@app.callback(Output('success-pie-chart','figure'),\n              Input('site_dropdown','value'))\n\ndef update_graph(site_dropdown):\n\n    if (site_dropdown == 'All Sites'): \n        df = spacex_df[spacex_df['class'] == 1]\n        fig = px.pie(df, names = 'Launch Site', title = '# of Successful Launches by Launch Site')\n    else:\n        df = spacex_df.loc[spacex_df['Launch Site'] == site_dropdown]\n        fig = px.pie(df, names = 'class', title = 'Outcomes of Launches at ' +site_dropdown)\n    return fig\n\n# TASK 4:\n# Add a callback function for `site_dropdown` and `payload_slider` as inputs, `success-payload-scatter-chart` as output\n@app.callback(Output('success-payload-scatter-chart','figure'),\n             Input('site_dropdown','value'),Input('payload_slider','value'))\n\ndef update_graph(site_dropdown,payload_slider):\n\n    if (site_dropdown == 'All Sites'):\n        fig = px.scatter(spacex_df,x='Payload Mass (kg)',y='class',color='Booster Version Category',\n                            range_x=payload_slider)\n    else:\n        df = spacex_df.loc[spacex_df['Launch Site'] == site_dropdown]\n        fig = px.scatter(df,x='Payload Mass (kg)',y='class',color='Booster Version Category',\n                            range_x=payload_slider)\n    return fig\n        \n\n# Run the app\nif __name__ == '__main__':\n    app.run_server()"
        },
        {
            "cell_type": "code",
            "execution_count": null,
            "metadata": {},
            "outputs": [],
            "source": ""
        }
    ],
    "metadata": {
        "kernelspec": {
            "display_name": "Python 3.8",
            "language": "python",
            "name": "python3"
        },
        "language_info": {
            "codemirror_mode": {
                "name": "ipython",
                "version": 3
            },
            "file_extension": ".py",
            "mimetype": "text/x-python",
            "name": "python",
            "nbconvert_exporter": "python",
            "pygments_lexer": "ipython3",
            "version": "3.8.10"
        }
    },
    "nbformat": 4,
    "nbformat_minor": 1
}